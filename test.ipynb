{
 "cells": [
  {
   "cell_type": "code",
   "execution_count": 12,
   "metadata": {},
   "outputs": [],
   "source": [
    "import pandas as pd\n",
    "\n",
    "# Snowflake connector libraries\n",
    "import snowflake.connector as snow\n",
    "from snowflake.connector.pandas_tools import write_pandas"
   ]
  },
  {
   "cell_type": "code",
   "execution_count": 13,
   "metadata": {},
   "outputs": [],
   "source": [
    "def create_connection():\n",
    "   conn = snow.connect(\n",
    "      user=\"dbt\",\n",
    "      password=\"dbtPassword123\",\n",
    "      account=\"ceymqwx-th41454\",\n",
    "      warehouse=\"DEMO_WH\",\n",
    "      database=\"NETFLIX\",\n",
    "      schema=\"NETFLIX.RAW\"\n",
    "    )\n",
    "   cursor = conn.cursor()\n",
    "   print('SQL Connection Created')\n",
    "   return cursor,conn"
   ]
  },
  {
   "cell_type": "code",
   "execution_count": 14,
   "metadata": {},
   "outputs": [],
   "source": [
    "def truncate_table():\n",
    "   cur,conn=create_connection()\n",
    "   sql_titles = \"TRUNCATE TABLE IF EXISTS TITLES_RAW\"\n",
    "   sql_credits = \"TRUNCATE TABLE IF EXISTS CREDITS_RAW\"\n",
    "   cur.execute(sql_titles)\n",
    "   cur.execute(sql_credits)\n",
    "   print('Tables truncated')"
   ]
  },
  {
   "cell_type": "code",
   "execution_count": 15,
   "metadata": {},
   "outputs": [],
   "source": [
    "def load_data():\n",
    "   cur,conn=create_connection()\n",
    "   titles_df = pd.read_csv(\"/Users/vishnu/Desktop/DBT Files/DBT Fundamentals Project/credits.csv\", sep = ',')\n",
    "   print(\"Titles file read\")\n",
    "   credits_df = pd.read_csv(\"/Users/vishnu/Desktop/DBT Files/DBT Fundamentals Project/netflix_titles.csv\", sep = ',')\n",
    "   print(\"Credits file read\")\n",
    "\n",
    "   write_pandas(conn, titles_df, \"TITLES\",auto_create_table=True)\n",
    "   print('Titles file loaded')\n",
    "   write_pandas(conn, credits_df, \"CREDITS\",auto_create_table=True)\n",
    "   print('Credits file loaded')\n",
    "\n",
    "   cur = conn.cursor()\n",
    "   # Close your cursor and your connection.\n",
    "   cur.close()\n",
    "   conn.close()"
   ]
  },
  {
   "cell_type": "code",
   "execution_count": 16,
   "metadata": {},
   "outputs": [
    {
     "name": "stdout",
     "output_type": "stream",
     "text": [
      "Starting Script\n"
     ]
    },
    {
     "ename": "AttributeError",
     "evalue": "'AuthByDefault' object has no attribute 'timeout'",
     "output_type": "error",
     "traceback": [
      "\u001b[0;31m---------------------------------------------------------------------------\u001b[0m",
      "\u001b[0;31mAttributeError\u001b[0m                            Traceback (most recent call last)",
      "Cell \u001b[0;32mIn[16], line 2\u001b[0m\n\u001b[1;32m      1\u001b[0m \u001b[39mprint\u001b[39m(\u001b[39m\"\u001b[39m\u001b[39mStarting Script\u001b[39m\u001b[39m\"\u001b[39m)\n\u001b[0;32m----> 2\u001b[0m truncate_table()\n\u001b[1;32m      3\u001b[0m load_data()\n",
      "Cell \u001b[0;32mIn[14], line 2\u001b[0m, in \u001b[0;36mtruncate_table\u001b[0;34m()\u001b[0m\n\u001b[1;32m      1\u001b[0m \u001b[39mdef\u001b[39;00m \u001b[39mtruncate_table\u001b[39m():\n\u001b[0;32m----> 2\u001b[0m    cur,conn\u001b[39m=\u001b[39mcreate_connection()\n\u001b[1;32m      3\u001b[0m    sql_titles \u001b[39m=\u001b[39m \u001b[39m\"\u001b[39m\u001b[39mTRUNCATE TABLE IF EXISTS TITLES_RAW\u001b[39m\u001b[39m\"\u001b[39m\n\u001b[1;32m      4\u001b[0m    sql_credits \u001b[39m=\u001b[39m \u001b[39m\"\u001b[39m\u001b[39mTRUNCATE TABLE IF EXISTS CREDITS_RAW\u001b[39m\u001b[39m\"\u001b[39m\n",
      "Cell \u001b[0;32mIn[13], line 2\u001b[0m, in \u001b[0;36mcreate_connection\u001b[0;34m()\u001b[0m\n\u001b[1;32m      1\u001b[0m \u001b[39mdef\u001b[39;00m \u001b[39mcreate_connection\u001b[39m():\n\u001b[0;32m----> 2\u001b[0m    conn \u001b[39m=\u001b[39m snow\u001b[39m.\u001b[39;49mconnect(\n\u001b[1;32m      3\u001b[0m       user\u001b[39m=\u001b[39;49m\u001b[39m\"\u001b[39;49m\u001b[39mdbt\u001b[39;49m\u001b[39m\"\u001b[39;49m,\n\u001b[1;32m      4\u001b[0m       password\u001b[39m=\u001b[39;49m\u001b[39m\"\u001b[39;49m\u001b[39mdbtPassword123\u001b[39;49m\u001b[39m\"\u001b[39;49m,\n\u001b[1;32m      5\u001b[0m       account\u001b[39m=\u001b[39;49m\u001b[39m\"\u001b[39;49m\u001b[39mceymqwx-th41454\u001b[39;49m\u001b[39m\"\u001b[39;49m,\n\u001b[1;32m      6\u001b[0m       warehouse\u001b[39m=\u001b[39;49m\u001b[39m\"\u001b[39;49m\u001b[39mDEMO_WH\u001b[39;49m\u001b[39m\"\u001b[39;49m,\n\u001b[1;32m      7\u001b[0m       database\u001b[39m=\u001b[39;49m\u001b[39m\"\u001b[39;49m\u001b[39mNETFLIX\u001b[39;49m\u001b[39m\"\u001b[39;49m,\n\u001b[1;32m      8\u001b[0m       schema\u001b[39m=\u001b[39;49m\u001b[39m\"\u001b[39;49m\u001b[39mNETFLIX.RAW\u001b[39;49m\u001b[39m\"\u001b[39;49m\n\u001b[1;32m      9\u001b[0m     )\n\u001b[1;32m     10\u001b[0m    cursor \u001b[39m=\u001b[39m conn\u001b[39m.\u001b[39mcursor()\n\u001b[1;32m     11\u001b[0m    \u001b[39mprint\u001b[39m(\u001b[39m'\u001b[39m\u001b[39mSQL Connection Created\u001b[39m\u001b[39m'\u001b[39m)\n",
      "File \u001b[0;32m~/anaconda3/lib/python3.10/site-packages/snowflake/connector/__init__.py:51\u001b[0m, in \u001b[0;36mConnect\u001b[0;34m(**kwargs)\u001b[0m\n\u001b[1;32m     50\u001b[0m \u001b[39mdef\u001b[39;00m \u001b[39mConnect\u001b[39m(\u001b[39m*\u001b[39m\u001b[39m*\u001b[39mkwargs) \u001b[39m-\u001b[39m\u001b[39m>\u001b[39m SnowflakeConnection:\n\u001b[0;32m---> 51\u001b[0m     \u001b[39mreturn\u001b[39;00m SnowflakeConnection(\u001b[39m*\u001b[39;49m\u001b[39m*\u001b[39;49mkwargs)\n",
      "File \u001b[0;32m~/anaconda3/lib/python3.10/site-packages/snowflake/connector/connection.py:292\u001b[0m, in \u001b[0;36mSnowflakeConnection.__init__\u001b[0;34m(self, **kwargs)\u001b[0m\n\u001b[1;32m    290\u001b[0m \u001b[39mself\u001b[39m\u001b[39m.\u001b[39mconverter \u001b[39m=\u001b[39m \u001b[39mNone\u001b[39;00m\n\u001b[1;32m    291\u001b[0m \u001b[39mself\u001b[39m\u001b[39m.\u001b[39m__set_error_attributes()\n\u001b[0;32m--> 292\u001b[0m \u001b[39mself\u001b[39;49m\u001b[39m.\u001b[39;49mconnect(\u001b[39m*\u001b[39;49m\u001b[39m*\u001b[39;49mkwargs)\n\u001b[1;32m    293\u001b[0m \u001b[39mself\u001b[39m\u001b[39m.\u001b[39m_telemetry \u001b[39m=\u001b[39m TelemetryClient(\u001b[39mself\u001b[39m\u001b[39m.\u001b[39m_rest)\n",
      "File \u001b[0;32m~/anaconda3/lib/python3.10/site-packages/snowflake/connector/connection.py:542\u001b[0m, in \u001b[0;36mSnowflakeConnection.connect\u001b[0;34m(self, **kwargs)\u001b[0m\n\u001b[1;32m    540\u001b[0m         connection_diag\u001b[39m.\u001b[39mgenerate_report()\n\u001b[1;32m    541\u001b[0m \u001b[39melse\u001b[39;00m:\n\u001b[0;32m--> 542\u001b[0m     \u001b[39mself\u001b[39;49m\u001b[39m.\u001b[39;49m__open_connection()\n",
      "File \u001b[0;32m~/anaconda3/lib/python3.10/site-packages/snowflake/connector/connection.py:781\u001b[0m, in \u001b[0;36mSnowflakeConnection.__open_connection\u001b[0;34m(self)\u001b[0m\n\u001b[1;32m    779\u001b[0m auth \u001b[39m=\u001b[39m Auth(\u001b[39mself\u001b[39m\u001b[39m.\u001b[39mrest)\n\u001b[1;32m    780\u001b[0m auth\u001b[39m.\u001b[39mread_temporary_credentials(\u001b[39mself\u001b[39m\u001b[39m.\u001b[39mhost, \u001b[39mself\u001b[39m\u001b[39m.\u001b[39muser, \u001b[39mself\u001b[39m\u001b[39m.\u001b[39m_session_parameters)\n\u001b[0;32m--> 781\u001b[0m \u001b[39mself\u001b[39;49m\u001b[39m.\u001b[39;49m_authenticate(auth_instance)\n\u001b[1;32m    783\u001b[0m \u001b[39mself\u001b[39m\u001b[39m.\u001b[39m_password \u001b[39m=\u001b[39m \u001b[39mNone\u001b[39;00m  \u001b[39m# ensure password won't persist\u001b[39;00m\n\u001b[1;32m    785\u001b[0m \u001b[39mif\u001b[39;00m \u001b[39mself\u001b[39m\u001b[39m.\u001b[39mclient_session_keep_alive:\n\u001b[1;32m    786\u001b[0m     \u001b[39m# This will be called after the heartbeat frequency has actually been set.\u001b[39;00m\n\u001b[1;32m    787\u001b[0m     \u001b[39m# By this point it should have been decided if the heartbeat has to be enabled\u001b[39;00m\n\u001b[1;32m    788\u001b[0m     \u001b[39m# and what would the heartbeat frequency be\u001b[39;00m\n",
      "File \u001b[0;32m~/anaconda3/lib/python3.10/site-packages/snowflake/connector/connection.py:1044\u001b[0m, in \u001b[0;36mSnowflakeConnection._authenticate\u001b[0;34m(self, auth_instance)\u001b[0m\n\u001b[1;32m   1041\u001b[0m \u001b[39mdef\u001b[39;00m \u001b[39m_authenticate\u001b[39m(\u001b[39mself\u001b[39m, auth_instance):\n\u001b[1;32m   1042\u001b[0m     \u001b[39m# make some changes if needed before real __authenticate\u001b[39;00m\n\u001b[1;32m   1043\u001b[0m     \u001b[39mtry\u001b[39;00m:\n\u001b[0;32m-> 1044\u001b[0m         \u001b[39mself\u001b[39;49m\u001b[39m.\u001b[39;49m__authenticate(\u001b[39mself\u001b[39;49m\u001b[39m.\u001b[39;49m__preprocess_auth_instance(auth_instance))\n\u001b[1;32m   1045\u001b[0m     \u001b[39mexcept\u001b[39;00m ReauthenticationRequest \u001b[39mas\u001b[39;00m ex:\n\u001b[1;32m   1046\u001b[0m         \u001b[39m# cached id_token expiration error, we have cleaned id_token and try to authenticate again\u001b[39;00m\n\u001b[1;32m   1047\u001b[0m         logger\u001b[39m.\u001b[39mdebug(\u001b[39m\"\u001b[39m\u001b[39mID token expired. Reauthenticating...: \u001b[39m\u001b[39m%s\u001b[39;00m\u001b[39m\"\u001b[39m, ex)\n",
      "File \u001b[0;32m~/anaconda3/lib/python3.10/site-packages/snowflake/connector/connection.py:1064\u001b[0m, in \u001b[0;36mSnowflakeConnection.__authenticate\u001b[0;34m(self, auth_instance)\u001b[0m\n\u001b[1;32m   1062\u001b[0m auth \u001b[39m=\u001b[39m Auth(\u001b[39mself\u001b[39m\u001b[39m.\u001b[39mrest)\n\u001b[1;32m   1063\u001b[0m \u001b[39mtry\u001b[39;00m:\n\u001b[0;32m-> 1064\u001b[0m     auth\u001b[39m.\u001b[39;49mauthenticate(\n\u001b[1;32m   1065\u001b[0m         auth_instance\u001b[39m=\u001b[39;49mauth_instance,\n\u001b[1;32m   1066\u001b[0m         account\u001b[39m=\u001b[39;49m\u001b[39mself\u001b[39;49m\u001b[39m.\u001b[39;49maccount,\n\u001b[1;32m   1067\u001b[0m         user\u001b[39m=\u001b[39;49m\u001b[39mself\u001b[39;49m\u001b[39m.\u001b[39;49muser,\n\u001b[1;32m   1068\u001b[0m         database\u001b[39m=\u001b[39;49m\u001b[39mself\u001b[39;49m\u001b[39m.\u001b[39;49mdatabase,\n\u001b[1;32m   1069\u001b[0m         schema\u001b[39m=\u001b[39;49m\u001b[39mself\u001b[39;49m\u001b[39m.\u001b[39;49mschema,\n\u001b[1;32m   1070\u001b[0m         warehouse\u001b[39m=\u001b[39;49m\u001b[39mself\u001b[39;49m\u001b[39m.\u001b[39;49mwarehouse,\n\u001b[1;32m   1071\u001b[0m         role\u001b[39m=\u001b[39;49m\u001b[39mself\u001b[39;49m\u001b[39m.\u001b[39;49mrole,\n\u001b[1;32m   1072\u001b[0m         passcode\u001b[39m=\u001b[39;49m\u001b[39mself\u001b[39;49m\u001b[39m.\u001b[39;49m_passcode,\n\u001b[1;32m   1073\u001b[0m         passcode_in_password\u001b[39m=\u001b[39;49m\u001b[39mself\u001b[39;49m\u001b[39m.\u001b[39;49m_passcode_in_password,\n\u001b[1;32m   1074\u001b[0m         mfa_callback\u001b[39m=\u001b[39;49m\u001b[39mself\u001b[39;49m\u001b[39m.\u001b[39;49m_mfa_callback,\n\u001b[1;32m   1075\u001b[0m         password_callback\u001b[39m=\u001b[39;49m\u001b[39mself\u001b[39;49m\u001b[39m.\u001b[39;49m_password_callback,\n\u001b[1;32m   1076\u001b[0m         session_parameters\u001b[39m=\u001b[39;49m\u001b[39mself\u001b[39;49m\u001b[39m.\u001b[39;49m_session_parameters,\n\u001b[1;32m   1077\u001b[0m     )\n\u001b[1;32m   1078\u001b[0m \u001b[39mexcept\u001b[39;00m OperationalError:\n\u001b[1;32m   1079\u001b[0m     logger\u001b[39m.\u001b[39mdebug(\n\u001b[1;32m   1080\u001b[0m         \u001b[39m\"\u001b[39m\u001b[39mOperational Error raised at authentication\u001b[39m\u001b[39m\"\u001b[39m\n\u001b[1;32m   1081\u001b[0m         \u001b[39mf\u001b[39m\u001b[39m\"\u001b[39m\u001b[39mfor authenticator: \u001b[39m\u001b[39m{\u001b[39;00m\u001b[39mtype\u001b[39m(auth_instance)\u001b[39m.\u001b[39m\u001b[39m__name__\u001b[39m\u001b[39m}\u001b[39;00m\u001b[39m\"\u001b[39m\n\u001b[1;32m   1082\u001b[0m     )\n",
      "File \u001b[0;32m~/anaconda3/lib/python3.10/site-packages/snowflake/connector/auth/_auth.py:246\u001b[0m, in \u001b[0;36mAuth.authenticate\u001b[0;34m(self, auth_instance, account, user, database, schema, warehouse, role, passcode, passcode_in_password, mfa_callback, password_callback, session_parameters, timeout)\u001b[0m\n\u001b[1;32m    237\u001b[0m logger\u001b[39m.\u001b[39mdebug(\n\u001b[1;32m    238\u001b[0m     \u001b[39m\"\u001b[39m\u001b[39mbody[\u001b[39m\u001b[39m'\u001b[39m\u001b[39mdata\u001b[39m\u001b[39m'\u001b[39m\u001b[39m]: \u001b[39m\u001b[39m%s\u001b[39;00m\u001b[39m\"\u001b[39m,\n\u001b[1;32m    239\u001b[0m     {k: v \u001b[39mfor\u001b[39;00m (k, v) \u001b[39min\u001b[39;00m body[\u001b[39m\"\u001b[39m\u001b[39mdata\u001b[39m\u001b[39m\"\u001b[39m]\u001b[39m.\u001b[39mitems() \u001b[39mif\u001b[39;00m k \u001b[39m!=\u001b[39m \u001b[39m\"\u001b[39m\u001b[39mPASSWORD\u001b[39m\u001b[39m\"\u001b[39m},\n\u001b[1;32m    240\u001b[0m )\n\u001b[1;32m    242\u001b[0m \u001b[39m# accommodate any authenticator specific timeout requirements here.\u001b[39;00m\n\u001b[1;32m    243\u001b[0m \u001b[39m# login_timeout comes from user configuration.\u001b[39;00m\n\u001b[1;32m    244\u001b[0m \u001b[39m# Between login timeout and auth specific\u001b[39;00m\n\u001b[1;32m    245\u001b[0m \u001b[39m# timeout use whichever value is smaller\u001b[39;00m\n\u001b[0;32m--> 246\u001b[0m auth_timeout \u001b[39m=\u001b[39m \u001b[39mmin\u001b[39m(\u001b[39mself\u001b[39m\u001b[39m.\u001b[39m_rest\u001b[39m.\u001b[39m_connection\u001b[39m.\u001b[39mlogin_timeout, auth_instance\u001b[39m.\u001b[39;49mtimeout)\n\u001b[1;32m    247\u001b[0m logger\u001b[39m.\u001b[39mdebug(\u001b[39mf\u001b[39m\u001b[39m\"\u001b[39m\u001b[39mTimeout set to \u001b[39m\u001b[39m{\u001b[39;00mauth_timeout\u001b[39m}\u001b[39;00m\u001b[39m\"\u001b[39m)\n\u001b[1;32m    249\u001b[0m \u001b[39mtry\u001b[39;00m:\n",
      "\u001b[0;31mAttributeError\u001b[0m: 'AuthByDefault' object has no attribute 'timeout'"
     ]
    }
   ],
   "source": [
    "print(\"Starting Script\")\n",
    "truncate_table()\n",
    "load_data()"
   ]
  },
  {
   "cell_type": "code",
   "execution_count": 17,
   "metadata": {},
   "outputs": [
    {
     "name": "stdout",
     "output_type": "stream",
     "text": [
      "Titles file read\n",
      "Credits file read\n"
     ]
    }
   ],
   "source": [
    "titles_df = pd.read_csv(\"/Users/vishnu/Desktop/DBT Files/DBT Fundamentals Project/netflix_titles.csv\", sep = ',')\n",
    "print(\"Titles file read\")\n",
    "credits_df = pd.read_csv(\"/Users/vishnu/Desktop/DBT Files/DBT Fundamentals Project/credits.csv\", sep = ',')\n",
    "print(\"Credits file read\")"
   ]
  },
  {
   "cell_type": "code",
   "execution_count": null,
   "metadata": {},
   "outputs": [
    {
     "data": {
      "text/plain": [
       "<bound method DataFrame.info of        person_id         id                name                character  \\\n",
       "0           3748    tm84618      Robert De Niro            Travis Bickle   \n",
       "1          14658    tm84618        Jodie Foster            Iris Steensma   \n",
       "2           7064    tm84618       Albert Brooks                      Tom   \n",
       "3           3739    tm84618       Harvey Keitel  Matthew 'Sport' Higgins   \n",
       "4          48933    tm84618     Cybill Shepherd                    Betsy   \n",
       "...          ...        ...                 ...                      ...   \n",
       "77796     736339  tm1059008    Adelaida Buscato                María Paz   \n",
       "77797     399499  tm1059008  Luz Stella Luengas             Karen Bayona   \n",
       "77798     373198  tm1059008         Inés Prieto                    Fanny   \n",
       "77799     378132  tm1059008        Isabel Gaona                   Cacica   \n",
       "77800    1950416  tm1059008      Julian Gaviria                      NaN   \n",
       "\n",
       "           role  \n",
       "0         ACTOR  \n",
       "1         ACTOR  \n",
       "2         ACTOR  \n",
       "3         ACTOR  \n",
       "4         ACTOR  \n",
       "...         ...  \n",
       "77796     ACTOR  \n",
       "77797     ACTOR  \n",
       "77798     ACTOR  \n",
       "77799     ACTOR  \n",
       "77800  DIRECTOR  \n",
       "\n",
       "[77801 rows x 5 columns]>"
      ]
     },
     "execution_count": 7,
     "metadata": {},
     "output_type": "execute_result"
    }
   ],
   "source": [
    "titles_df.info"
   ]
  },
  {
   "cell_type": "code",
   "execution_count": null,
   "metadata": {},
   "outputs": [
    {
     "data": {
      "text/html": [
       "<div>\n",
       "<style scoped>\n",
       "    .dataframe tbody tr th:only-of-type {\n",
       "        vertical-align: middle;\n",
       "    }\n",
       "\n",
       "    .dataframe tbody tr th {\n",
       "        vertical-align: top;\n",
       "    }\n",
       "\n",
       "    .dataframe thead th {\n",
       "        text-align: right;\n",
       "    }\n",
       "</style>\n",
       "<table border=\"1\" class=\"dataframe\">\n",
       "  <thead>\n",
       "    <tr style=\"text-align: right;\">\n",
       "      <th></th>\n",
       "      <th>person_id</th>\n",
       "      <th>id</th>\n",
       "      <th>name</th>\n",
       "      <th>character</th>\n",
       "      <th>role</th>\n",
       "    </tr>\n",
       "  </thead>\n",
       "  <tbody>\n",
       "    <tr>\n",
       "      <th>0</th>\n",
       "      <td>3748</td>\n",
       "      <td>tm84618</td>\n",
       "      <td>Robert De Niro</td>\n",
       "      <td>Travis Bickle</td>\n",
       "      <td>ACTOR</td>\n",
       "    </tr>\n",
       "    <tr>\n",
       "      <th>1</th>\n",
       "      <td>14658</td>\n",
       "      <td>tm84618</td>\n",
       "      <td>Jodie Foster</td>\n",
       "      <td>Iris Steensma</td>\n",
       "      <td>ACTOR</td>\n",
       "    </tr>\n",
       "    <tr>\n",
       "      <th>2</th>\n",
       "      <td>7064</td>\n",
       "      <td>tm84618</td>\n",
       "      <td>Albert Brooks</td>\n",
       "      <td>Tom</td>\n",
       "      <td>ACTOR</td>\n",
       "    </tr>\n",
       "    <tr>\n",
       "      <th>3</th>\n",
       "      <td>3739</td>\n",
       "      <td>tm84618</td>\n",
       "      <td>Harvey Keitel</td>\n",
       "      <td>Matthew 'Sport' Higgins</td>\n",
       "      <td>ACTOR</td>\n",
       "    </tr>\n",
       "    <tr>\n",
       "      <th>4</th>\n",
       "      <td>48933</td>\n",
       "      <td>tm84618</td>\n",
       "      <td>Cybill Shepherd</td>\n",
       "      <td>Betsy</td>\n",
       "      <td>ACTOR</td>\n",
       "    </tr>\n",
       "  </tbody>\n",
       "</table>\n",
       "</div>"
      ],
      "text/plain": [
       "   person_id       id             name                character   role\n",
       "0       3748  tm84618   Robert De Niro            Travis Bickle  ACTOR\n",
       "1      14658  tm84618     Jodie Foster            Iris Steensma  ACTOR\n",
       "2       7064  tm84618    Albert Brooks                      Tom  ACTOR\n",
       "3       3739  tm84618    Harvey Keitel  Matthew 'Sport' Higgins  ACTOR\n",
       "4      48933  tm84618  Cybill Shepherd                    Betsy  ACTOR"
      ]
     },
     "execution_count": 8,
     "metadata": {},
     "output_type": "execute_result"
    }
   ],
   "source": [
    "titles_df.head()"
   ]
  },
  {
   "cell_type": "code",
   "execution_count": 18,
   "metadata": {},
   "outputs": [
    {
     "data": {
      "text/html": [
       "<div>\n",
       "<style scoped>\n",
       "    .dataframe tbody tr th:only-of-type {\n",
       "        vertical-align: middle;\n",
       "    }\n",
       "\n",
       "    .dataframe tbody tr th {\n",
       "        vertical-align: top;\n",
       "    }\n",
       "\n",
       "    .dataframe thead th {\n",
       "        text-align: right;\n",
       "    }\n",
       "</style>\n",
       "<table border=\"1\" class=\"dataframe\">\n",
       "  <thead>\n",
       "    <tr style=\"text-align: right;\">\n",
       "      <th></th>\n",
       "      <th>person_id</th>\n",
       "      <th>id</th>\n",
       "      <th>actor</th>\n",
       "      <th>character_role</th>\n",
       "      <th>role_played</th>\n",
       "    </tr>\n",
       "  </thead>\n",
       "  <tbody>\n",
       "    <tr>\n",
       "      <th>0</th>\n",
       "      <td>3748</td>\n",
       "      <td>tm84618</td>\n",
       "      <td>Robert De Niro</td>\n",
       "      <td>Travis Bickle</td>\n",
       "      <td>ACTOR</td>\n",
       "    </tr>\n",
       "    <tr>\n",
       "      <th>1</th>\n",
       "      <td>14658</td>\n",
       "      <td>tm84618</td>\n",
       "      <td>Jodie Foster</td>\n",
       "      <td>Iris Steensma</td>\n",
       "      <td>ACTOR</td>\n",
       "    </tr>\n",
       "    <tr>\n",
       "      <th>2</th>\n",
       "      <td>7064</td>\n",
       "      <td>tm84618</td>\n",
       "      <td>Albert Brooks</td>\n",
       "      <td>Tom</td>\n",
       "      <td>ACTOR</td>\n",
       "    </tr>\n",
       "    <tr>\n",
       "      <th>3</th>\n",
       "      <td>3739</td>\n",
       "      <td>tm84618</td>\n",
       "      <td>Harvey Keitel</td>\n",
       "      <td>Matthew 'Sport' Higgins</td>\n",
       "      <td>ACTOR</td>\n",
       "    </tr>\n",
       "    <tr>\n",
       "      <th>4</th>\n",
       "      <td>48933</td>\n",
       "      <td>tm84618</td>\n",
       "      <td>Cybill Shepherd</td>\n",
       "      <td>Betsy</td>\n",
       "      <td>ACTOR</td>\n",
       "    </tr>\n",
       "  </tbody>\n",
       "</table>\n",
       "</div>"
      ],
      "text/plain": [
       "   person_id       id            actor           character_role role_played\n",
       "0       3748  tm84618   Robert De Niro            Travis Bickle       ACTOR\n",
       "1      14658  tm84618     Jodie Foster            Iris Steensma       ACTOR\n",
       "2       7064  tm84618    Albert Brooks                      Tom       ACTOR\n",
       "3       3739  tm84618    Harvey Keitel  Matthew 'Sport' Higgins       ACTOR\n",
       "4      48933  tm84618  Cybill Shepherd                    Betsy       ACTOR"
      ]
     },
     "execution_count": 18,
     "metadata": {},
     "output_type": "execute_result"
    }
   ],
   "source": [
    "credits_df.head()"
   ]
  },
  {
   "cell_type": "code",
   "execution_count": null,
   "metadata": {},
   "outputs": [
    {
     "data": {
      "text/plain": [
       "Index(['show_id', 'type', 'title', 'director', 'cast', 'country', 'date_added',\n",
       "       'release_year', 'rating', 'duration', 'listed_in', 'description'],\n",
       "      dtype='object')"
      ]
     },
     "execution_count": 10,
     "metadata": {},
     "output_type": "execute_result"
    }
   ],
   "source": [
    "credits_df.columns"
   ]
  },
  {
   "cell_type": "code",
   "execution_count": 19,
   "metadata": {},
   "outputs": [
    {
     "name": "stdout",
     "output_type": "stream",
     "text": [
      "<class 'pandas.core.frame.DataFrame'>\n",
      "RangeIndex: 77801 entries, 0 to 77800\n",
      "Data columns (total 5 columns):\n",
      " #   Column          Non-Null Count  Dtype \n",
      "---  ------          --------------  ----- \n",
      " 0   person_id       77801 non-null  int64 \n",
      " 1   id              77801 non-null  object\n",
      " 2   actor           77801 non-null  object\n",
      " 3   character_role  68029 non-null  object\n",
      " 4   role_played     77801 non-null  object\n",
      "dtypes: int64(1), object(4)\n",
      "memory usage: 3.0+ MB\n"
     ]
    }
   ],
   "source": [
    "credits_df.info()"
   ]
  },
  {
   "cell_type": "code",
   "execution_count": null,
   "metadata": {},
   "outputs": [],
   "source": []
  }
 ],
 "metadata": {
  "kernelspec": {
   "display_name": "base",
   "language": "python",
   "name": "python3"
  },
  "language_info": {
   "codemirror_mode": {
    "name": "ipython",
    "version": 3
   },
   "file_extension": ".py",
   "mimetype": "text/x-python",
   "name": "python",
   "nbconvert_exporter": "python",
   "pygments_lexer": "ipython3",
   "version": "3.10.9"
  },
  "orig_nbformat": 4
 },
 "nbformat": 4,
 "nbformat_minor": 2
}
